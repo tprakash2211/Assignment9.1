{
 "cells": [
  {
   "cell_type": "code",
   "execution_count": null,
   "metadata": {
    "collapsed": true
   },
   "outputs": [],
   "source": [
    "# Problem Statement:\n",
    "# Is gender independent of education level? A random sample of 395 people were surveyed and each person was asked to report the highest education level they obtained. \n",
    "# The data that resulted from the survey is summarized in the following table:\n",
    "#          High School Bachelors Masters Ph.d.     Total\n",
    "# Female      60         54       46      41        201\n",
    "# Male        40         44       53      57        194\n",
    "# Total      100         98       99      98        395\n",
    "\n",
    "# Question: Are gender and education level dependent at 5% level of significance? In other words, given the data collected above,\n",
    "#           Is there a relationship between the gender of an individual and the level of education that they have obtained?\n",
    "\n",
    "Solution:\n",
    "    \n",
    "Step 1: Determine the formula:   \n",
    "            Null Hypothesis: The two categorical variables are independent.\n",
    "            Alternative Hypothesis: The two categorical variables are dependent.\n",
    "        The chi-square test statistic is calculated by using the formula:\n",
    "            χ2 = ∑(O−E)^2/E\n",
    "where, \n",
    "O represents the observed frequency\n",
    "E represents the expected frequency under the null hypothesis and computed by:\n",
    "        E = (row total × column total) / sample size\n",
    "We will compare the value of the test statistic to the critical value of χ2α with degree of freedom = (r - 1) (c - 1), \n",
    "and reject the null hypothesis if χ2>χ2α.\n",
    "\n",
    "Step 2: Determine the table of expected counts:\n",
    "        eg) High School Female = (201*100)/395 = 50.886 (we shall get the table as below for rest of the values once calculated)      \n",
    "               \n",
    "          High School  Bachelors  Masters   Ph.d.   Total\n",
    "Female       50.886     49.868    50.377   49.868    201\n",
    "Male         49.114     48.132    48.623   48.132    194\n",
    "Total          100        98        99       98      395\n",
    "\n",
    "Step 3: Calculate the Chi-Square value:         \n",
    "        \n",
    "        χ2= (60−50.886)^2/50.886 + (54−49.868)^2/49.868 + (46−50.377)^2/50.377 + (41-49.868)^2/49.868 + (54−49.868)^2/49.868 + (40-49.114)^2/49.114 + (44-48.132)^2/48.132 + (53-48.623)^2/48.623 + (57−48.132)^2/48.132 = 8.006\n",
    "        χ2= 8.006\n",
    "         \n",
    "Step 4: Conclusion:\n",
    "        The critical value of χ2 with 3 degree of freedom is 7.815\n",
    "        Since 8.006 > 7.815, therefore we reject the null hypothesis\n",
    "        Therefore, the education level depends on gender at a 5% level of significance."
   ]
  }
 ],
 "metadata": {
  "kernelspec": {
   "display_name": "Python 3",
   "language": "python",
   "name": "python3"
  },
  "language_info": {
   "codemirror_mode": {
    "name": "ipython",
    "version": 3
   },
   "file_extension": ".py",
   "mimetype": "text/x-python",
   "name": "python",
   "nbconvert_exporter": "python",
   "pygments_lexer": "ipython3",
   "version": "3.6.3"
  }
 },
 "nbformat": 4,
 "nbformat_minor": 2
}
